{
 "cells": [
  {
   "cell_type": "code",
   "execution_count": 1,
   "metadata": {},
   "outputs": [
    {
     "name": "stderr",
     "output_type": "stream",
     "text": [
      "Using TensorFlow backend.\n"
     ]
    }
   ],
   "source": [
    "from keras.datasets import fashion_mnist\n",
    "import numpy as np\n",
    "from keras.layers import Input, Dense, Conv2D, MaxPooling2D \n",
    "from keras.layers import UpSampling2D, Dropout, Activation, Flatten \n",
    "from keras.layers import LeakyReLU, LSTM, Conv1D, GlobalMaxPooling1D\n",
    "from keras.models import Model, Sequential\n",
    "from matplotlib import pyplot as plt\n",
    "from keras.utils import np_utils\n",
    "import keras\n",
    "from keras.applications import VGG16\n",
    "from keras.preprocessing.image import img_to_array, array_to_img\n",
    "from sklearn.model_selection import train_test_split\n",
    "from keras.applications.vgg16 import preprocess_input\n",
    "import pandas as pd\n",
    "from keras.layers.embeddings import Embedding\n",
    "from keras.callbacks import TensorBoard\n",
    "from keras.preprocessing import sequence\n",
    "from keras.preprocessing.text import Tokenizer\n",
    "from sklearn.utils import class_weight\n",
    "from sklearn.metrics import roc_curve\n",
    "from sklearn.metrics import auc"
   ]
  },
  {
   "cell_type": "markdown",
   "metadata": {},
   "source": [
    "## 1. Autoencoder"
   ]
  },
  {
   "cell_type": "code",
   "execution_count": 44,
   "metadata": {},
   "outputs": [
    {
     "name": "stdout",
     "output_type": "stream",
     "text": [
      "Train: (60000, 28, 28) (60000,)\n",
      "Test: (10000, 28, 28) (10000,)\n"
     ]
    }
   ],
   "source": [
    "(x_train, y_train), (x_test, y_test) = fashion_mnist.load_data()\n",
    "print('Train:', x_train.shape, y_train.shape)\n",
    "print('Test:', x_test.shape, y_test.shape)"
   ]
  },
  {
   "cell_type": "code",
   "execution_count": 45,
   "metadata": {},
   "outputs": [],
   "source": [
    "#reshape data from 6,000 x 28 x 28 to single image dimension\n",
    "x_train = np.reshape(x_train, (len(x_train), 28, 28, 1))  \n",
    "x_test = np.reshape(x_test, (len(x_test), 28, 28, 1))"
   ]
  },
  {
   "cell_type": "code",
   "execution_count": 46,
   "metadata": {},
   "outputs": [],
   "source": [
    "input_img = Input(shape=(28, 28, 1))  \n",
    "\n",
    "#compress image for encoding:\n",
    "x = Conv2D(16, kernel_size = (3, 3), activation='relu', padding='same')(input_img)\n",
    "x = MaxPooling2D((2, 2), padding='same')(x)\n",
    "\n",
    "x = Conv2D(8, kernel_size = (3, 3), activation='relu', padding='same')(x)\n",
    "x = MaxPooling2D((2, 2), padding='same')(x)\n",
    "\n",
    "x = Conv2D(8, kernel_size = (3, 3), activation='relu', padding='same')(x)\n",
    "encoded = MaxPooling2D((2, 2), padding='same')(x)\n",
    "\n",
    "x = Conv2D(8, kernel_size =  (3, 3), activation='relu', padding='same')(encoded)\n",
    "x = UpSampling2D((2, 2))(x)\n",
    "\n",
    "x = Conv2D(8, kernel_size = (3, 3), activation='relu', padding='same')(x)\n",
    "x = UpSampling2D((2, 2))(x)\n",
    "\n",
    "x = Conv2D(16, kernel_size = (3, 3), activation='relu')(x)\n",
    "x = UpSampling2D((2, 2))(x)\n",
    "\n",
    "#image is decoded as 28 x 28 x 1 matrix\n",
    "decoded = Conv2D(1, kernel_size = (3, 3), activation='sigmoid', padding='same')(x)\n",
    "\n",
    "autoencoder = Model(input_img, decoded)\n",
    "autoencoder.compile(optimizer='adadelta', loss='binary_crossentropy')\n",
    "\n",
    "#we use sigmoid activation and binary cross-entropy loss because pixels have \n",
    "#values between 0 and 1"
   ]
  },
  {
   "cell_type": "code",
   "execution_count": 47,
   "metadata": {},
   "outputs": [
    {
     "name": "stdout",
     "output_type": "stream",
     "text": [
      "Train on 60000 samples, validate on 10000 samples\n",
      "Epoch 1/10\n",
      "60000/60000 [==============================] - 39s 649us/step - loss: -1144.1763 - val_loss: -1154.3859\n",
      "Epoch 2/10\n",
      "60000/60000 [==============================] - 39s 646us/step - loss: -1151.7403 - val_loss: -1155.2508\n",
      "Epoch 3/10\n",
      "60000/60000 [==============================] - 39s 649us/step - loss: -1152.1618 - val_loss: -1155.6225\n",
      "Epoch 4/10\n",
      "60000/60000 [==============================] - 39s 654us/step - loss: -1152.3477 - val_loss: -1155.3803\n",
      "Epoch 5/10\n",
      "60000/60000 [==============================] - 39s 655us/step - loss: -1152.4786 - val_loss: -1155.8162\n",
      "Epoch 6/10\n",
      "60000/60000 [==============================] - 40s 660us/step - loss: -1152.6088 - val_loss: -1155.9511\n",
      "Epoch 7/10\n",
      "60000/60000 [==============================] - 40s 660us/step - loss: -1152.6981 - val_loss: -1156.0607\n",
      "Epoch 8/10\n",
      "60000/60000 [==============================] - 40s 662us/step - loss: -1152.7499 - val_loss: -1156.0521\n",
      "Epoch 9/10\n",
      "60000/60000 [==============================] - 40s 660us/step - loss: -1152.8176 - val_loss: -1156.1539\n",
      "Epoch 10/10\n",
      "60000/60000 [==============================] - 39s 657us/step - loss: -1152.8698 - val_loss: -1155.6205\n"
     ]
    },
    {
     "data": {
      "text/plain": [
       "<keras.callbacks.callbacks.History at 0x1c5de385c0>"
      ]
     },
     "execution_count": 47,
     "metadata": {},
     "output_type": "execute_result"
    }
   ],
   "source": [
    "autoencoder.fit(x_train, x_train,\n",
    "                epochs = 10,\n",
    "                batch_size = 128,\n",
    "                shuffle=True,\n",
    "                validation_data=(x_test, x_test))"
   ]
  },
  {
   "cell_type": "code",
   "execution_count": 48,
   "metadata": {},
   "outputs": [
    {
     "data": {
      "image/png": "[encoded data removed]",
      "text/plain": [
       "<Figure size 1440x288 with 18 Axes>"
      ]
     },
     "metadata": {
      "needs_background": "light"
     },
     "output_type": "display_data"
    }
   ],
   "source": [
    "# Reconstructed images\n",
    "decoded_imgs = autoencoder.predict(x_test)\n",
    "\n",
    "n = 10\n",
    "plt.figure(figsize=(20, 4))\n",
    "for i in range(1,n):\n",
    "    # original\n",
    "    ax = plt.subplot(2, n, i)\n",
    "    plt.imshow(x_test[i].reshape(28, 28))\n",
    "    plt.gray()\n",
    "    ax.get_xaxis().set_visible(False)\n",
    "    ax.get_yaxis().set_visible(False)\n",
    "\n",
    "    # autoencoder\n",
    "    ax = plt.subplot(2, n, i + n)\n",
    "    plt.imshow(decoded_imgs[i].reshape(28, 28))\n",
    "    plt.gray()\n",
    "    ax.get_xaxis().set_visible(False)\n",
    "    ax.get_yaxis().set_visible(False)\n",
    "plt.show()"
   ]
  },
  {
   "cell_type": "markdown",
   "metadata": {},
   "source": [
    "## 2. Image Classification\n"
   ]
  },
  {
   "cell_type": "markdown",
   "metadata": {},
   "source": [
    "### 2.1 Deep CNN"
   ]
  },
  {
   "cell_type": "markdown",
   "metadata": {},
   "source": [
    "Relu is chosen.\n",
    "\n",
    "Kernal size: 3*3.\n",
    "\n",
    "Strides: 1*1 \n",
    "\n",
    "Pool size: 2*2.\n",
    "\n",
    "Padding: valid padding as it will keep the most important information in the center and choose to give away other on the edge.\n",
    "\n",
    "Network depth: 4 layers."
   ]
  },
  {
   "cell_type": "code",
   "execution_count": 41,
   "metadata": {},
   "outputs": [],
   "source": [
    "from keras.models import Sequential\n",
    "from keras.layers import Dense, Activation\n",
    "from keras.layers import Input, Dense, Conv2D, MaxPooling2D, UpSampling2D, Reshape\n",
    "model = Sequential()\n",
    "model.add(Conv2D(32,kernel_size = (3,3), activation = 'relu', input_shape = (28,28,1)))\n",
    "model.add(Conv2D(32,kernel_size = (3,3), activation = 'relu'))\n",
    "model.add(MaxPooling2D(pool_size = (2,2)))\n",
    "model.add(Dropout(0.25))\n",
    "\n",
    "model.add(Conv2D(64, (3,3), activation = 'relu'))\n",
    "model.add(Conv2D(64, (3,3), activation = 'relu'))\n",
    "model.add(MaxPooling2D(pool_size = (2,2)))\n",
    "model.add(Dropout(0.25))\n",
    "model.add(Flatten()) #flatten in order to run ANN\n",
    "model.add(Dense(128, activation = 'relu')) #using 128 parameters\n",
    "model.add(Dropout(0.25))\n",
    "model.add(Dense(10, activation = 'softmax'))#output 10 results to classify 10 classes\n",
    "\n",
    "model.compile(optimizer='adadelta',\n",
    "              loss='categorical_crossentropy',\n",
    "              metrics=['accuracy'])"
   ]
  },
  {
   "cell_type": "code",
   "execution_count": 42,
   "metadata": {},
   "outputs": [],
   "source": [
    "(x_train, y_train), (x_test, y_test) = fashion_mnist.load_data()\n",
    "x_train = x_train.astype('float32') / 255.\n",
    "x_test = x_test.astype('float32') / 255.\n",
    "x_train = np.reshape(x_train, (len(x_train), 28, 28, 1))\n",
    "x_test = np.reshape(x_test, (len(x_test), 28, 28, 1))\n",
    "y_train = keras.utils.to_categorical(y_train, num_classes=10)\n",
    "y_test = keras.utils.to_categorical(y_test, num_classes=10)"
   ]
  },
  {
   "cell_type": "code",
   "execution_count": 43,
   "metadata": {},
   "outputs": [
    {
     "name": "stdout",
     "output_type": "stream",
     "text": [
      "Train on 60000 samples, validate on 10000 samples\n",
      "Epoch 1/5\n",
      "60000/60000 [==============================] - 66s 1ms/step - loss: 0.5442 - accuracy: 0.7999 - val_loss: 0.3573 - val_accuracy: 0.8703\n",
      "Epoch 2/5\n",
      "60000/60000 [==============================] - 64s 1ms/step - loss: 0.3380 - accuracy: 0.8767 - val_loss: 0.2820 - val_accuracy: 0.8998\n",
      "Epoch 3/5\n",
      "60000/60000 [==============================] - 65s 1ms/step - loss: 0.2948 - accuracy: 0.8936 - val_loss: 0.2707 - val_accuracy: 0.9024\n",
      "Epoch 4/5\n",
      "60000/60000 [==============================] - 64s 1ms/step - loss: 0.2712 - accuracy: 0.9033 - val_loss: 0.2627 - val_accuracy: 0.9048\n",
      "Epoch 5/5\n",
      "60000/60000 [==============================] - 65s 1ms/step - loss: 0.2565 - accuracy: 0.9072 - val_loss: 0.2413 - val_accuracy: 0.9106\n"
     ]
    }
   ],
   "source": [
    "history_dCNN = model.fit(x_train, y_train, \n",
    "          epochs=5, \n",
    "          batch_size=32,\n",
    "          validation_data = (x_test, y_test))"
   ]
  },
  {
   "cell_type": "code",
   "execution_count": 22,
   "metadata": {},
   "outputs": [
    {
     "name": "stdout",
     "output_type": "stream",
     "text": [
      "10000/10000 [==============================] - 2s 225us/step\n",
      "[0.245577130651474, 0.9099000096321106]\n",
      "60000/60000 [==============================] - 13s 220us/step\n",
      "[0.2024028450489044, 0.9270166754722595]\n"
     ]
    }
   ],
   "source": [
    "print(model.evaluate(x_test, y_test))\n",
    "print(model.evaluate(x_train, y_train))"
   ]
  },
  {
   "cell_type": "markdown",
   "metadata": {},
   "source": [
    "### 2.2 Transfer Learning"
   ]
  },
  {
   "cell_type": "code",
   "execution_count": 24,
   "metadata": {},
   "outputs": [],
   "source": [
    "from keras.applications import VGG16\n",
    "import skimage\n",
    "from skimage.transform import resize\n",
    "from tqdm import tqdm\n",
    "from keras.models import Sequential\n",
    "\n",
    "from keras import backend as K\n",
    "from keras.layers import Lambda, Input\n",
    "from keras.models import Model\n",
    "import cv2"
   ]
  },
  {
   "cell_type": "code",
   "execution_count": 25,
   "metadata": {},
   "outputs": [],
   "source": [
    "x_train1 = np.asarray([cv2.resize(i, (32,32)) for i in x_train])\n",
    "x_test1 = np.asarray([cv2.resize(i, (32,32)) for i in x_test])\n",
    "\n",
    "x_train1 = x_train1.reshape(x_train1.shape[0], 32, 32,1)\n",
    "x_test1 = x_test1.reshape(x_test1.shape[0], 32, 32, 1)\n",
    "\n",
    "x_train1 = np.asarray([np.squeeze(np.stack((i, )*3, axis = -1)) for i in x_train1])\n",
    "x_test1 = np.asarray([np.squeeze(np.stack((i, )*3, axis = -1)) for i in x_test1])"
   ]
  },
  {
   "cell_type": "code",
   "execution_count": 26,
   "metadata": {},
   "outputs": [
    {
     "name": "stdout",
     "output_type": "stream",
     "text": [
      "Downloading data from https://github.com/fchollet/deep-learning-models/releases/download/v0.1/vgg16_weights_tf_dim_ordering_tf_kernels_notop.h5\n",
      "58892288/58889256 [==============================] - 7s 0us/step\n"
     ]
    }
   ],
   "source": [
    "conv_base = VGG16(weights = \"imagenet\", include_top=False, input_shape = (32,32,3))"
   ]
  },
  {
   "cell_type": "code",
   "execution_count": 34,
   "metadata": {},
   "outputs": [],
   "source": [
    "model_22 = Sequential()\n",
    "model_22.add(conv_base)\n",
    "model_22.add(Flatten())\n",
    "model_22.add(Dense(64, activation=\"relu\"))\n",
    "model_22.add(Dense(10, activation=\"softmax\"))"
   ]
  },
  {
   "cell_type": "code",
   "execution_count": 35,
   "metadata": {},
   "outputs": [
    {
     "data": {
      "text/plain": [
       "[<tf.Variable 'dense_9/kernel:0' shape=(512, 64) dtype=float32>,\n",
       " <tf.Variable 'dense_9/bias:0' shape=(64,) dtype=float32>,\n",
       " <tf.Variable 'dense_10/kernel:0' shape=(64, 10) dtype=float32>,\n",
       " <tf.Variable 'dense_10/bias:0' shape=(10,) dtype=float32>]"
      ]
     },
     "execution_count": 35,
     "metadata": {},
     "output_type": "execute_result"
    }
   ],
   "source": [
    "model_22.trainable_weights"
   ]
  },
  {
   "cell_type": "code",
   "execution_count": 36,
   "metadata": {},
   "outputs": [],
   "source": [
    "conv_base.trainable = False"
   ]
  },
  {
   "cell_type": "code",
   "execution_count": 37,
   "metadata": {},
   "outputs": [
    {
     "data": {
      "text/plain": [
       "[<tf.Variable 'dense_9/kernel:0' shape=(512, 64) dtype=float32>,\n",
       " <tf.Variable 'dense_9/bias:0' shape=(64,) dtype=float32>,\n",
       " <tf.Variable 'dense_10/kernel:0' shape=(64, 10) dtype=float32>,\n",
       " <tf.Variable 'dense_10/bias:0' shape=(10,) dtype=float32>]"
      ]
     },
     "execution_count": 37,
     "metadata": {},
     "output_type": "execute_result"
    }
   ],
   "source": [
    "model_22.trainable_weights"
   ]
  },
  {
   "cell_type": "code",
   "execution_count": 38,
   "metadata": {},
   "outputs": [],
   "source": [
    "model_22.compile(loss='categorical_crossentropy', optimizer='adam',metrics=[\"accuracy\"])"
   ]
  },
  {
   "cell_type": "code",
   "execution_count": 39,
   "metadata": {},
   "outputs": [
    {
     "name": "stdout",
     "output_type": "stream",
     "text": [
      "Train on 60000 samples, validate on 10000 samples\n",
      "Epoch 1/10\n",
      "60000/60000 [==============================] - 286s 5ms/step - loss: 0.6136 - accuracy: 0.7901 - val_loss: 0.4781 - val_accuracy: 0.8286\n",
      "Epoch 2/10\n",
      "60000/60000 [==============================] - 288s 5ms/step - loss: 0.4356 - accuracy: 0.8424 - val_loss: 0.4444 - val_accuracy: 0.8396\n",
      "Epoch 3/10\n",
      "60000/60000 [==============================] - 285s 5ms/step - loss: 0.4004 - accuracy: 0.8535 - val_loss: 0.4163 - val_accuracy: 0.8499\n",
      "Epoch 4/10\n",
      "60000/60000 [==============================] - 286s 5ms/step - loss: 0.3811 - accuracy: 0.8604 - val_loss: 0.4066 - val_accuracy: 0.8544\n",
      "Epoch 5/10\n",
      "60000/60000 [==============================] - 285s 5ms/step - loss: 0.3650 - accuracy: 0.8654 - val_loss: 0.3981 - val_accuracy: 0.8569\n",
      "Epoch 6/10\n",
      "60000/60000 [==============================] - 286s 5ms/step - loss: 0.3528 - accuracy: 0.8698 - val_loss: 0.3880 - val_accuracy: 0.8600\n",
      "Epoch 7/10\n",
      "60000/60000 [==============================] - 284s 5ms/step - loss: 0.3423 - accuracy: 0.8752 - val_loss: 0.3831 - val_accuracy: 0.8660\n",
      "Epoch 8/10\n",
      "60000/60000 [==============================] - 285s 5ms/step - loss: 0.3348 - accuracy: 0.8766 - val_loss: 0.3798 - val_accuracy: 0.8662\n",
      "Epoch 9/10\n",
      "60000/60000 [==============================] - 285s 5ms/step - loss: 0.3274 - accuracy: 0.8789 - val_loss: 0.3871 - val_accuracy: 0.8634\n",
      "Epoch 10/10\n",
      "60000/60000 [==============================] - 284s 5ms/step - loss: 0.3189 - accuracy: 0.8826 - val_loss: 0.3752 - val_accuracy: 0.8692\n"
     ]
    }
   ],
   "source": [
    "trained_22 = model_22.fit(x_train1,y_train, \n",
    "                    epochs=10, \n",
    "                    batch_size=64,\n",
    "                    verbose = 1,\n",
    "                    validation_data = (x_test1, y_test))"
   ]
  },
  {
   "cell_type": "code",
   "execution_count": 40,
   "metadata": {},
   "outputs": [
    {
     "name": "stdout",
     "output_type": "stream",
     "text": [
      "10000/10000 [==============================] - 39s 4ms/step\n",
      "[0.3752091684103012, 0.8691999912261963]\n",
      "60000/60000 [==============================] - 233s 4ms/step\n",
      "[0.3030406946659088, 0.8899499773979187]\n"
     ]
    }
   ],
   "source": [
    "print(model_22.evaluate(x_test1, y_test))\n",
    "print(model_22.evaluate(x_train1, y_train))"
   ]
  },
  {
   "cell_type": "markdown",
   "metadata": {},
   "source": [
    "## 3. Text Classification"
   ]
  },
  {
   "cell_type": "code",
   "execution_count": 53,
   "metadata": {},
   "outputs": [
    {
     "name": "stderr",
     "output_type": "stream",
     "text": [
      "[nltk_data] Downloading package stopwords to\n",
      "[nltk_data]     /Users/evelyn/nltk_data...\n",
      "[nltk_data]   Package stopwords is already up-to-date!\n",
      "[nltk_data] Downloading package wordnet to /Users/evelyn/nltk_data...\n",
      "[nltk_data]   Package wordnet is already up-to-date!\n",
      "[nltk_data] Downloading package punkt to /Users/evelyn/nltk_data...\n",
      "[nltk_data]   Package punkt is already up-to-date!\n"
     ]
    },
    {
     "data": {
      "text/plain": [
       "True"
      ]
     },
     "execution_count": 53,
     "metadata": {},
     "output_type": "execute_result"
    }
   ],
   "source": [
    "import pandas as pd\n",
    "import nltk\n",
    "import collections\n",
    "from nltk.util import ngrams\n",
    "from nltk.tokenize import word_tokenize\n",
    "from nltk.stem.porter import PorterStemmer\n",
    "from nltk.stem import WordNetLemmatizer\n",
    "from sklearn.model_selection import train_test_split\n",
    "from keras.applications.vgg16 import preprocess_input\n",
    "from keras.layers.embeddings import Embedding\n",
    "from keras.layers import Input, Dense, Dropout, Activation, Flatten, GlobalMaxPooling1D, LSTM\n",
    "from keras.callbacks import TensorBoard\n",
    "from keras.preprocessing import sequence\n",
    "from keras.preprocessing.text import Tokenizer\n",
    "from sklearn.utils import class_weight\n",
    "from keras.layers import LSTM, Conv1D, GlobalMaxPooling1D\n",
    "import regex as re\n",
    "from nltk.corpus import stopwords\n",
    "import gensim\n",
    "from gensim.models import Word2Vec\n",
    "from tensorflow.keras.preprocessing import sequence\n",
    "\n",
    "nltk.download('stopwords')\n",
    "nltk.download('wordnet')\n",
    "nltk.download('punkt')"
   ]
  },
  {
   "cell_type": "code",
   "execution_count": 61,
   "metadata": {},
   "outputs": [],
   "source": [
    "tweets = pd.read_csv('tweets_with_labels.csv', sep = '\\t')\n",
    "\n",
    "# Clean\n",
    "stopWords = set(stopwords.words('english'))\n",
    "stemmer = PorterStemmer()\n",
    "lemmatizer = WordNetLemmatizer()\n",
    "\n",
    "def preprocess_tweets(tweet):\n",
    "    tweet = re.sub(\"@mention\", \"\",tweet)\n",
    "    tweet = re.sub(\"{link}\", \"\",tweet)\n",
    "    tweet = re.sub(\"[^A-Za-z]\",\" \",tweet)\n",
    "    tweet = re.sub(r'\\bRT\\b', '', tweet)\n",
    "    tweet = re.sub(\"\\s+\",\" \",tweet)\n",
    "    tokens = word_tokenize(tweet)\n",
    "    words = [word for word in tokens if word not in stopWords]\n",
    "    words = [stemmer.stem(w).strip(\"'\") for w in words]\n",
    "    words = [lemmatizer.lemmatize(w, pos=\"a\") for w in words]\n",
    "    words = [word for word in words if len(word)!=1]\n",
    "    final_tweet = ' '.join(words)\n",
    "    return final_tweet\n",
    "\n",
    "new_tweet = [preprocess_tweets(x) for x in list(tweets.tweet)]\n",
    "tweets['new_tweets'] = new_tweet"
   ]
  },
  {
   "cell_type": "code",
   "execution_count": 62,
   "metadata": {},
   "outputs": [],
   "source": [
    "token = [word_tokenize(x) for x in list(tweets.new_tweets)]\n",
    "\n",
    "# Clean\n",
    "remove_lst=[]\n",
    "for w in token:\n",
    "    remove_lst.append(len(w))\n",
    "bad_idx = [n for n,x in enumerate(remove_lst) if x == 0]\n",
    "tweets_updated = tweets.drop(bad_idx)"
   ]
  },
  {
   "cell_type": "code",
   "execution_count": 63,
   "metadata": {},
   "outputs": [],
   "source": [
    "X = [word_tokenize(x) for x in list(tweets_updated['new_tweets'])]\n",
    "\n",
    "# label y for any k1 to k15 not equal to 0\n",
    "label = tweets_updated.loc[:,'k1':'k15']\n",
    "label[tweets_updated != 0] = 1\n",
    "Y = label.values\n",
    "\n",
    "X_train, X_test, Y_train, Y_test = train_test_split(X, Y, test_size=0.3, random_state=13)"
   ]
  },
  {
   "cell_type": "code",
   "execution_count": 64,
   "metadata": {},
   "outputs": [
    {
     "name": "stdout",
     "output_type": "stream",
     "text": [
      "X_train shape:  54551\n",
      "X_test shape:  23379\n",
      "y_train shape:  (54551, 15)\n",
      "y_test shape:  (23379, 15)\n"
     ]
    }
   ],
   "source": [
    "print('X_train shape: ', len(X_train))\n",
    "print('X_test shape: ', len(X_test))\n",
    "print('y_train shape: ', Y_train.shape)\n",
    "print('y_test shape: ', Y_test.shape)"
   ]
  },
  {
   "cell_type": "code",
   "execution_count": 65,
   "metadata": {},
   "outputs": [],
   "source": [
    "# padding token sequense to max length of 40\n",
    "X_train_padded = sequence.pad_sequences(X_train, maxlen=40, padding=\"post\", truncating=\"post\", value='_pad_',dtype=object)\n",
    "X_test_padded = sequence.pad_sequences(X_test, maxlen=40, padding=\"post\", truncating=\"post\", value='_pad_',dtype=object)\n",
    "\n",
    "train_corpus = list(tweets_updated.new_tweets)\n",
    "train_cor_tk = [word_tokenize(x) for x in train_corpus]\n",
    "corpus_padded = sequence.pad_sequences(train_cor_tk, maxlen=40,padding=\"post\", truncating=\"post\", value='_pad_',dtype=object)\n",
    "\n",
    "corpus_padded = corpus_padded.tolist()\n",
    "X_train_padded = X_train_padded.tolist()\n",
    "X_test_padded = X_test_padded.tolist()"
   ]
  },
  {
   "cell_type": "code",
   "execution_count": 66,
   "metadata": {},
   "outputs": [
    {
     "name": "stderr",
     "output_type": "stream",
     "text": [
      "/Users/evelyn/anaconda3/lib/python3.7/site-packages/ipykernel_launcher.py:10: DeprecationWarning: Call to deprecated `__getitem__` (Method will be removed in 4.0.0, use self.wv.__getitem__() instead).\n",
      "  # Remove the CWD from sys.path while we load stuff.\n",
      "/Users/evelyn/anaconda3/lib/python3.7/site-packages/ipykernel_launcher.py:15: DeprecationWarning: Call to deprecated `__getitem__` (Method will be removed in 4.0.0, use self.wv.__getitem__() instead).\n",
      "  from ipykernel import kernelapp as app\n"
     ]
    },
    {
     "name": "stdout",
     "output_type": "stream",
     "text": [
      "X_train_vec shape:  (54551, 40, 20)\n",
      "X_test_vec shape:  (23379, 40, 20)\n"
     ]
    }
   ],
   "source": [
    "# train word2vec and vectorizing training set and test set \n",
    "w2v_model = Word2Vec(corpus_padded, min_count=1, size = 20, workers=1, window=3)\n",
    "\n",
    "# vector with size train/test, maxlen = 40 \n",
    "X_train_vec = np.empty([len(X_train), 40, 20])\n",
    "X_test_vec = np.empty([len(X_test), 40, 20])\n",
    "\n",
    "idx_train = 0\n",
    "for w in X_train_padded:\n",
    "    X_train_vec[idx_train, :, :] = w2v_model[w]\n",
    "    idx_train += 1\n",
    "\n",
    "idx_test = 0\n",
    "for w in X_test_padded:\n",
    "    X_test_vec[idx_test,:,:] = w2v_model[w]\n",
    "    idx_test += 1\n",
    "\n",
    "print('X_train_vec shape: ', X_train_vec.shape)\n",
    "print('X_test_vec shape: ', X_test_vec.shape)"
   ]
  },
  {
   "cell_type": "code",
   "execution_count": 67,
   "metadata": {},
   "outputs": [
    {
     "name": "stdout",
     "output_type": "stream",
     "text": [
      "Train on 54551 samples, validate on 23379 samples\n",
      "Epoch 1/10\n",
      "54551/54551 [==============================] - 20s 373us/step - loss: 0.3692 - accuracy: 0.8517 - val_loss: 0.3217 - val_accuracy: 0.8748\n",
      "Epoch 2/10\n",
      "54551/54551 [==============================] - 20s 362us/step - loss: 0.3315 - accuracy: 0.8725 - val_loss: 0.3210 - val_accuracy: 0.8748\n",
      "Epoch 3/10\n",
      "54551/54551 [==============================] - 19s 357us/step - loss: 0.3282 - accuracy: 0.8732 - val_loss: 0.3209 - val_accuracy: 0.8748\n",
      "Epoch 4/10\n",
      "54551/54551 [==============================] - 19s 354us/step - loss: 0.3262 - accuracy: 0.8738 - val_loss: 0.3208 - val_accuracy: 0.8748\n",
      "Epoch 5/10\n",
      "54551/54551 [==============================] - 19s 352us/step - loss: 0.3254 - accuracy: 0.8743 - val_loss: 0.3213 - val_accuracy: 0.8748\n",
      "Epoch 6/10\n",
      "54551/54551 [==============================] - 19s 349us/step - loss: 0.3246 - accuracy: 0.8744 - val_loss: 0.3211 - val_accuracy: 0.8748\n",
      "Epoch 7/10\n",
      "54551/54551 [==============================] - 19s 346us/step - loss: 0.3241 - accuracy: 0.8745 - val_loss: 0.3212 - val_accuracy: 0.8748\n",
      "Epoch 8/10\n",
      "54551/54551 [==============================] - 19s 346us/step - loss: 0.3169 - accuracy: 0.8755 - val_loss: 0.3082 - val_accuracy: 0.8736\n",
      "Epoch 9/10\n",
      "54551/54551 [==============================] - 19s 351us/step - loss: 0.2566 - accuracy: 0.9024 - val_loss: 0.2121 - val_accuracy: 0.9156\n",
      "Epoch 10/10\n",
      "54551/54551 [==============================] - 19s 351us/step - loss: 0.2056 - accuracy: 0.9237 - val_loss: 0.1810 - val_accuracy: 0.9344\n"
     ]
    }
   ],
   "source": [
    "# Build LSTM model\n",
    "model_rnn = Sequential()\n",
    "model_rnn.add(LSTM(128, input_shape = (40, 20)))\n",
    "model_rnn.add(Dense(128, activation = 'relu'))\n",
    "model_rnn.add(Dropout(0.2))\n",
    "model_rnn.add(Dense(64, activation = 'relu'))\n",
    "model_rnn.add(Dropout(0.2))\n",
    "model_rnn.add(Dense(15, activation ='sigmoid'))\n",
    "\n",
    "model_rnn.compile(loss='binary_crossentropy', optimizer='adam',metrics=['accuracy'])\n",
    "\n",
    "history = model_rnn.fit(X_train_vec, Y_train,\n",
    "                        epochs=10, batch_size=500,\n",
    "                        validation_data=(X_test_vec, Y_test))"
   ]
  },
  {
   "cell_type": "code",
   "execution_count": 70,
   "metadata": {},
   "outputs": [
    {
     "name": "stdout",
     "output_type": "stream",
     "text": [
      "Train loss:  0.20556983022713332\n",
      "Train accuracy:  0.9236665\n",
      "Test loss:  0.684796143406201\n",
      "Test accuracy:  0.5469837784767151\n"
     ]
    }
   ],
   "source": [
    "#from sklearn import metrics\n",
    "\n",
    "# Evaluate\n",
    "score = model_31.evaluate(X_test_vec, Y_test, batch_size=64, verbose = 0)\n",
    "\n",
    "print('Train loss: ', history.history['loss'][9]) \n",
    "print('Train accuracy: ', history.history['accuracy'][9])\n",
    "\n",
    "print('Test loss: ', score[0])\n",
    "print('Test accuracy: ', score[1])"
   ]
  },
  {
   "cell_type": "markdown",
   "metadata": {},
   "source": [
    "### 3.2 CNN"
   ]
  },
  {
   "cell_type": "code",
   "execution_count": 72,
   "metadata": {},
   "outputs": [
    {
     "name": "stdout",
     "output_type": "stream",
     "text": [
      "WARNING:tensorflow:From /Users/evelyn/anaconda3/lib/python3.7/site-packages/tensorflow/python/ops/math_grad.py:102: div (from tensorflow.python.ops.math_ops) is deprecated and will be removed in a future version.\n",
      "Instructions for updating:\n",
      "Deprecated in favor of operator or tf.math.divide.\n",
      "Train on 54551 samples, validate on 23379 samples\n",
      "Epoch 1/10\n",
      "54551/54551 [==============================] - 2s 43us/step - loss: 0.2338 - accuracy: 0.9144 - val_loss: 0.1710 - val_accuracy: 0.9385\n",
      "Epoch 2/10\n",
      "54551/54551 [==============================] - 2s 36us/step - loss: 0.1783 - accuracy: 0.9374 - val_loss: 0.1603 - val_accuracy: 0.9428\n",
      "Epoch 3/10\n",
      "54551/54551 [==============================] - 2s 36us/step - loss: 0.1689 - accuracy: 0.9410 - val_loss: 0.1565 - val_accuracy: 0.9441\n",
      "Epoch 4/10\n",
      "54551/54551 [==============================] - 2s 35us/step - loss: 0.1641 - accuracy: 0.9424 - val_loss: 0.1535 - val_accuracy: 0.9453\n",
      "Epoch 5/10\n",
      "54551/54551 [==============================] - 2s 35us/step - loss: 0.1615 - accuracy: 0.9433 - val_loss: 0.1514 - val_accuracy: 0.9456\n",
      "Epoch 6/10\n",
      "54551/54551 [==============================] - 2s 36us/step - loss: 0.1591 - accuracy: 0.9438 - val_loss: 0.1509 - val_accuracy: 0.9457\n",
      "Epoch 7/10\n",
      "54551/54551 [==============================] - 2s 34us/step - loss: 0.1573 - accuracy: 0.9441 - val_loss: 0.1510 - val_accuracy: 0.9460\n",
      "Epoch 8/10\n",
      "54551/54551 [==============================] - 2s 36us/step - loss: 0.1561 - accuracy: 0.9448 - val_loss: 0.1493 - val_accuracy: 0.9464\n",
      "Epoch 9/10\n",
      "54551/54551 [==============================] - 2s 36us/step - loss: 0.1544 - accuracy: 0.9451 - val_loss: 0.1486 - val_accuracy: 0.9467\n",
      "Epoch 10/10\n",
      "54551/54551 [==============================] - 2s 37us/step - loss: 0.1532 - accuracy: 0.9455 - val_loss: 0.1478 - val_accuracy: 0.9469\n"
     ]
    }
   ],
   "source": [
    "model_cnn = Sequential()\n",
    "model_cnn.add(Conv1D(128, 3, activation='relu', padding = 'valid', strides=1, input_shape=(40,20)))\n",
    "model_cnn.add(GlobalMaxPooling1D())\n",
    "model_cnn.add(Dense(64))\n",
    "model_cnn.add(Dropout(0.2))\n",
    "model_cnn.add(Activation('relu'))\n",
    "model_cnn.add(Dense(15, activation ='sigmoid'))\n",
    "\n",
    "model_cnn.compile(loss='binary_crossentropy', optimizer='adam', metrics=['accuracy'])\n",
    "\n",
    "history_cnn = model_cnn.fit(X_train_vec, Y_train, epochs=10, batch_size=128,\n",
    "                        validation_data=(X_test_vec, Y_test))"
   ]
  },
  {
   "cell_type": "code",
   "execution_count": 73,
   "metadata": {},
   "outputs": [],
   "source": [
    "# evaluate the model\n",
    "score_32 = model_cnn.evaluate(X_test_vec, Y_test, batch_size=64, verbose = 0)"
   ]
  },
  {
   "cell_type": "code",
   "execution_count": 76,
   "metadata": {},
   "outputs": [
    {
     "name": "stdout",
     "output_type": "stream",
     "text": [
      "Train loss:  0.15320684212098426\n",
      "Train accuracy:  0.9454591\n",
      "Test loss:  0.14777043804770443\n",
      "Test accuracy:  0.9469500184059143\n"
     ]
    }
   ],
   "source": [
    "from sklearn import metrics\n",
    "\n",
    "print('Train loss: ', history_cnn.history['loss'][9]) \n",
    "print('Train accuracy: ', history_cnn.history['accuracy'][9])\n",
    "\n",
    "print('Test loss: ', score_32[0])\n",
    "print('Test accuracy: ', score_32[1])"
   ]
  },
  {
   "cell_type": "markdown",
   "metadata": {},
   "source": [
    "### 3.3"
   ]
  },
  {
   "cell_type": "code",
   "execution_count": 78,
   "metadata": {},
   "outputs": [
    {
     "data": {
      "text/plain": [
       "Text(0.5, 1.0, 'Text Classification - RNN vs CNN Accuracy Comparison')"
      ]
     },
     "execution_count": 78,
     "metadata": {},
     "output_type": "execute_result"
    },
    {
     "data": {
      "image/png": "[encoded data removed]",
      "text/plain": [
       "<Figure size 432x288 with 1 Axes>"
      ]
     },
     "metadata": {
      "needs_background": "light"
     },
     "output_type": "display_data"
    }
   ],
   "source": [
    "import matplotlib.pyplot as plt\n",
    "plt.plot(history.history['accuracy'], label='RNN train accuracy', color = 'r')\n",
    "plt.plot(history_cnn.history['accuracy'], label = 'CNN train accuracy', color = 'k')\n",
    "plt.xlabel('Epoch')\n",
    "plt.ylabel('Accuracy')\n",
    "plt.ylim([0.8, 1])\n",
    "plt.legend(loc='lower right')\n",
    "plt.title('Text Classification - RNN vs CNN Accuracy Comparison')"
   ]
  },
  {
   "cell_type": "code",
   "execution_count": 79,
   "metadata": {},
   "outputs": [
    {
     "data": {
      "text/plain": [
       "Text(0.5, 1.0, 'Text Classification - RNN vs CNN Loss Comparison')"
      ]
     },
     "execution_count": 79,
     "metadata": {},
     "output_type": "execute_result"
    },
    {
     "data": {
      "image/png": "[encoded data removed]",
      "text/plain": [
       "<Figure size 432x288 with 1 Axes>"
      ]
     },
     "metadata": {
      "needs_background": "light"
     },
     "output_type": "display_data"
    }
   ],
   "source": [
    "plt.plot(history.history['loss'], label='RNN train loss', color = 'r')\n",
    "plt.plot(history_cnn.history['loss'], label = 'CNN train loss', color = 'k')\n",
    "plt.xlabel('Epoch')\n",
    "plt.ylabel('Loss')\n",
    "plt.ylim([0, 0.5])\n",
    "plt.legend(loc='lower right')\n",
    "plt.title('Text Classification - RNN vs CNN Loss Comparison')"
   ]
  },
  {
   "cell_type": "markdown",
   "metadata": {},
   "source": [
    "In first accuracy plot, CNN has average higher accuracy than RNN.\n",
    "\n",
    "And in the second loss plot, CNN has less train loss than RNN.\n",
    "\n",
    "So overall CNN performs better than RNN model."
   ]
  },
  {
   "cell_type": "code",
   "execution_count": null,
   "metadata": {},
   "outputs": [],
   "source": []
  }
 ],
 "metadata": {
  "kernelspec": {
   "display_name": "Python 3",
   "language": "python",
   "name": "python3"
  },
  "language_info": {
   "codemirror_mode": {
    "name": "ipython",
    "version": 3
   },
   "file_extension": ".py",
   "mimetype": "text/x-python",
   "name": "python",
   "nbconvert_exporter": "python",
   "pygments_lexer": "ipython3",
   "version": "3.7.1"
  }
 },
 "nbformat": 4,
 "nbformat_minor": 2
}
